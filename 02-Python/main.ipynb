{
 "cells": [
  {
   "cell_type": "code",
   "execution_count": 1,
   "metadata": {},
   "outputs": [],
   "source": [
    "import csv\n",
    "from pathlib import Path"
   ]
  },
  {
   "cell_type": "code",
   "execution_count": 2,
   "metadata": {},
   "outputs": [],
   "source": [
    "menu_filepath = Path('C:\\\\Users\\\\hecto\\\\OneDrive\\\\Desktop\\\\Rutgers\\\\Class-Work\\\\02-Homework\\\\02-Python\\\\Instructions\\\\PyRamen\\\\Resources\\\\menu_data.csv')\n",
    "sales_filepath = Path('C:\\\\Users\\\\hecto\\\\OneDrive\\\\Desktop\\\\Rutgers\\\\Class-Work\\\\02-Homework\\\\02-Python\\\\Instructions\\\\PyRamen\\\\Resources\\\\sales_data.csv')\n"
   ]
  },
  {
   "cell_type": "code",
   "execution_count": 3,
   "metadata": {},
   "outputs": [],
   "source": [
    "menu = []\n",
    "sales = []\n",
    "report = {}\n",
    "row_count = 0"
   ]
  },
  {
   "cell_type": "code",
   "execution_count": 11,
   "metadata": {},
   "outputs": [],
   "source": [
    "import csv\n",
    "with open(\"C:\\\\Users\\\\hecto\\\\OneDrive\\\\Desktop\\\\Rutgers\\\\Class-Work\\\\02-Homework\\\\02-Python\\\\Instructions\\\\PyRamen\\\\Resources\\\\main.ipynb\") as csvfile:\n",
    "    #print(csvfile)\n",
    "\n",
    "    csv_reader = csv.reader(csvfile, delimiter = ',')\n",
    "    header = next(csv_reader)"
   ]
  },
  {
   "cell_type": "code",
   "execution_count": 19,
   "metadata": {},
   "outputs": [],
   "source": [
    "for sales_row in sales:\n",
    "    \n",
    "    sales_items = sales_row[4]\n",
    "    quantity = sales_row[3]\n",
    "\n",
    "    if [sales_items] not in report:\n",
    "        report[sales_items] = {\"01-count\": 0, \"02-revenue\": 0, \"03-cogs\": 0, \"04-profit\": 0}\n",
    "    else:\n",
    "        continue"
   ]
  },
  {
   "cell_type": "code",
   "execution_count": 20,
   "metadata": {},
   "outputs": [],
   "source": [
    "for sales_row in sales:\n",
    "    \n",
    "        sales_items = sales_row[4]\n",
    "        quantity = sales_row[3]\n",
    "\n",
    "        if sales_items in report:\n",
    "            report[sales_items][\"01-count\"] += int(quantity)"
   ]
  },
  {
   "cell_type": "code",
   "execution_count": 21,
   "metadata": {},
   "outputs": [],
   "source": [
    "for sales_row in sales:\n",
    "    \n",
    "\n",
    "\n",
    "    sales_items = sales_row[4]\n",
    "    quantity = sales_row[3]\n",
    "\n",
    "for menu_row in menu:\n",
    "    menu_item = menu_row[0]\n",
    "    menu_price = menu_row[3]\n",
    "    menu_cost = menu_row[4]\n",
    "\n",
    "    if sales_items == menu_item:\n",
    "        report[menu_item][\"02-revenue\"] += (int(menu_price) * int(quantity))\n",
    "        report[menu_item][\"03-cogs\"] += (int(menu_cost) * int(quantity))\n",
    "    elif sales_items != menu_item:\n",
    "        continue"
   ]
  },
  {
   "cell_type": "code",
   "execution_count": 22,
   "metadata": {},
   "outputs": [],
   "source": [
    "for item, valuedict in report.items():\n",
    "    \n",
    "    for key in valuedict:\n",
    "        cogs = report[item][\"03-cogs\"]\n",
    "        revenue = report[item][\"02-revenue\"]\n",
    "\n",
    "        if key == \"04-profit\":\n",
    "            report[item][key] = revenue - cogs\n",
    "        else:\n",
    "            continue"
   ]
  },
  {
   "cell_type": "code",
   "execution_count": 23,
   "metadata": {},
   "outputs": [],
   "source": [
    "output_path = Path(\"PyRamen.txt\")"
   ]
  },
  {
   "cell_type": "code",
   "execution_count": 24,
   "metadata": {},
   "outputs": [],
   "source": [
    "with open(output_path, 'w') as file:\n",
    "    file.write(\"This is the financial report for PyRamen.\\n\")\n",
    "\n",
    "for key in report:\n",
    "    file.write(f\"{key} {report[key]} \\n\")"
   ]
  },
  {
   "cell_type": "code",
   "execution_count": 25,
   "metadata": {},
   "outputs": [],
   "source": [
    "report = {}"
   ]
  },
  {
   "cell_type": "code",
   "execution_count": 26,
   "metadata": {},
   "outputs": [],
   "source": [
    "row_count = 0"
   ]
  }
 ],
 "metadata": {
  "interpreter": {
   "hash": "08800240a208b07eee8594915461aa5c9dc86c388de761c627be59abb11d2284"
  },
  "kernelspec": {
   "display_name": "Python 3.7.11 ('dev')",
   "language": "python",
   "name": "python3"
  },
  "language_info": {
   "codemirror_mode": {
    "name": "ipython",
    "version": 3
   },
   "file_extension": ".py",
   "mimetype": "text/x-python",
   "name": "python",
   "nbconvert_exporter": "python",
   "pygments_lexer": "ipython3",
   "version": "3.7.11"
  },
  "orig_nbformat": 4
 },
 "nbformat": 4,
 "nbformat_minor": 2
}
