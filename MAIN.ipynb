{
 "cells": [
  {
   "cell_type": "code",
   "execution_count": 78,
   "metadata": {},
   "outputs": [
    {
     "ename": "SyntaxError",
     "evalue": "invalid syntax (Temp/ipykernel_19500/748888235.py, line 1)",
     "output_type": "error",
     "traceback": [
      "\u001b[1;36m  File \u001b[1;32m\"C:\\Users\\hecto\\AppData\\Local\\Temp/ipykernel_19500/748888235.py\"\u001b[1;36m, line \u001b[1;32m1\u001b[0m\n\u001b[1;33m    import pandas as pdimport pandas as pd\u001b[0m\n\u001b[1;37m                                   ^\u001b[0m\n\u001b[1;31mSyntaxError\u001b[0m\u001b[1;31m:\u001b[0m invalid syntax\n"
     ]
    }
   ],
   "source": [
    "import pandas as pd"
   ]
  },
  {
   "cell_type": "code",
   "execution_count": null,
   "metadata": {},
   "outputs": [
    {
     "name": "stdout",
     "output_type": "stream",
     "text": [
      "        Date  Profit/Losses\n",
      "0   Jan-2010         867884\n",
      "1   Feb-2010         984655\n",
      "2   Mar-2010         322013\n",
      "3   Apr-2010         -69417\n",
      "4   May-2010         310503\n",
      "..       ...            ...\n",
      "81  Oct-2016         102685\n",
      "82  Nov-2016         795914\n",
      "83  Dec-2016          60988\n",
      "84  Jan-2017         138230\n",
      "85  Feb-2017         671099\n",
      "\n",
      "[86 rows x 2 columns]\n"
     ]
    }
   ],
   "source": [
    "df = pd.read_csv (\"C:\\\\Users\\\\hecto\\\\OneDrive\\\\Desktop\\\\Rutgers\\\\Class-Work\\\\02-Homework\\\\02-Python\\\\Instructions\\\\PyBank\\\\Resources\\\\budget_data.csv\")\n",
    "print (df)"
   ]
  },
  {
   "cell_type": "code",
   "execution_count": null,
   "metadata": {},
   "outputs": [],
   "source": [
    "text_path = \"output.txt\""
   ]
  },
  {
   "cell_type": "code",
   "execution_count": null,
   "metadata": {},
   "outputs": [],
   "source": [
    "total_months= 0\n",
    "total_revenue = 0\n",
    "previous_revenue = 0\n",
    "revenue_change = 0\n",
    "revenue_change_list = []\n",
    "month_of_change = []\n",
    "greatest_increase = [\"\", 0]\n",
    "greatest_decrease = [\"\", 99999999]"
   ]
  },
  {
   "cell_type": "code",
   "execution_count": null,
   "metadata": {},
   "outputs": [],
   "source": [
    "import csv\n",
    "with open(\"C:\\\\Users\\\\hecto\\\\OneDrive\\\\Desktop\\\\Rutgers\\\\Class-Work\\\\02-Homework\\\\02-Python\\\\Instructions\\\\PyBank\\\\Resources\\\\budget_data.csv\") as csvfile:\n",
    "    csvreader = csv.DictReader(csvfile)"
   ]
  },
  {
   "cell_type": "code",
   "execution_count": null,
   "metadata": {},
   "outputs": [],
   "source": [
    "revenue_change = int([\"Profit/Losses\"]) - previous_revenue\n",
    "previous_revenue = int(row[\"Profit/Losses\"])\n",
    "month_of_change = month_of_change + [row[\"Date\"]]"
   ]
  },
  {
   "cell_type": "code",
   "execution_count": null,
   "metadata": {},
   "outputs": [],
   "source": [
    "revenue_change = int(row[\"Profit/Losses\"])- previous_revenue\n",
    "previous_revenue = int (row[\"Profit/Losses\"])\n",
    "revenue_change_list = revenue_change_list + [revenue_change]\n",
    "month_of_change = month_of_change + [row[\"Date\"]]"
   ]
  },
  {
   "cell_type": "code",
   "execution_count": null,
   "metadata": {},
   "outputs": [],
   "source": [
    "if (revenue_change > greatest_increase[1]):\n",
    "    greatest_increase[1] = revenue_change\n",
    "    greatest_increase[0] = row[\"Date\"]"
   ]
  },
  {
   "cell_type": "code",
   "execution_count": null,
   "metadata": {},
   "outputs": [],
   "source": [
    "if (revenue_change < greatest_decrease[1]):\n",
    "    greatest_decrease[0] = row[\"Date\"]\n",
    "    greatest_increase[1] = revenue_change\n",
    "revenue_avg = sum(revenue_change_list) / len(revenue_change_list)"
   ]
  },
  {
   "cell_type": "code",
   "execution_count": null,
   "metadata": {},
   "outputs": [
    {
     "name": "stdout",
     "output_type": "stream",
     "text": [
      "Financial Analysis\n"
     ]
    }
   ],
   "source": [
    "output = (\n",
    "        f\"Total Months:  {total_months}\\n\")\n",
    "(f\"Total Revenue: {total_revenue}\\n\"\n",
    "f\"Average Revenue Change: ${revenue_avg}\\n\"\n",
    "f\"Greatest increase in Revenue: {greatest_increase[0]} ${greatest_increase[1]}\\n\"\n",
    "f\"Greatest decrease in Revenue: {greatest_decrease[0]} ${greatest_decrease[1]}\\n\")\n",
    "\n",
    "print (\"Financial Analysis\")"
   ]
  },
  {
   "cell_type": "code",
   "execution_count": null,
   "metadata": {},
   "outputs": [],
   "source": [
    "with open(text_path, \"w\") as txt_file:\n",
    "    txt_file.write(output)"
   ]
  },
  {
   "cell_type": "code",
   "execution_count": null,
   "metadata": {},
   "outputs": [
    {
     "name": "stdout",
     "output_type": "stream",
     "text": [
      "Financial Analysis\n",
      "total_months: {line_num}\n",
      "total: {profitloss_sum}\n",
      "Average Change: ${average_change_profitloss}\n",
      "Greatest Increase in Profits: ${Date} on {Profit/Losses}\n",
      "Greatest Decrease in Profits: ${Date} on {Profit/Losses}\n"
     ]
    }
   ],
   "source": [
    "print (\"Financial Analysis\")\n",
    "print (\"total_months: {line_num}\")\n",
    "print (\"total: {profitloss_sum}\")\n",
    "print(\"Average Change: ${average_change_profitloss}\")\n",
    "print(\"Greatest Increase in Profits: ${Date} on {Profit/Losses}\")\n",
    "print(\"Greatest Decrease in Profits: ${Date} on {Profit/Losses}\")"
   ]
  }
 ],
 "metadata": {
  "language_info": {
   "name": "python"
  },
  "orig_nbformat": 4
 },
 "nbformat": 4,
 "nbformat_minor": 2
}
